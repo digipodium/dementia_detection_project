{
  "cells": [
    {
      "cell_type": "code",
      "execution_count": 33,
      "metadata": {
        "colab": {},
        "colab_type": "code",
        "id": "uEwcnJkaRyKf"
      },
      "outputs": [],
      "source": [
        "#preprocessing images\n",
        "import tensorflow as tf\n",
        "from tensorflow.keras import layers, models,preprocessing,regularizers,callbacks\n",
        "from matplotlib import pyplot as plt\n",
        "\n"
      ]
    },
    {
      "cell_type": "code",
      "execution_count": 34,
      "metadata": {},
      "outputs": [
        {
          "data": {
            "text/plain": [
              "keras.layers.kernelized.RandomFourierFeatures"
            ]
          },
          "execution_count": 34,
          "metadata": {},
          "output_type": "execute_result"
        }
      ],
      "source": [
        "tf.keras.layers.experimental.RandomFourierFeatures"
      ]
    },
    {
      "cell_type": "code",
      "execution_count": 35,
      "metadata": {},
      "outputs": [
        {
          "name": "stdout",
          "output_type": "stream",
          "text": [
            "Found 120 images belonging to 2 classes.\n",
            "Found 80 images belonging to 2 classes.\n"
          ]
        }
      ],
      "source": [
        "datagen = preprocessing.image.ImageDataGenerator(rescale=1/255)# normalisation\n",
        "train_generator = datagen.flow_from_directory(\n",
        "        '../datasets/spectrogram/train',\n",
        "        batch_size=10,\n",
        "        target_size=(512,512),\n",
        "        class_mode='binary')\n",
        "val_generator = datagen.flow_from_directory(\n",
        "        '../datasets/spectrogram/test',\n",
        "        color_mode='rgb',\n",
        "        target_size=(512,512),\n",
        "        class_mode='binary')\n"
      ]
    },
    {
      "cell_type": "code",
      "execution_count": 38,
      "metadata": {
        "colab": {},
        "colab_type": "code",
        "id": "pLn8a1D2yjMf"
      },
      "outputs": [],
      "source": [
        "# model\n",
        "model = models.Sequential()\n",
        "model.add(layers.Conv2D(32, (5,5), activation='relu', input_shape=(512, 512, 3)))\n",
        "model.add(layers.MaxPooling2D((4, 4), strides=4))\n",
        "model.add(layers.Conv2D(32, (3, 3), activation='relu',kernel_regularizer=regularizers.l2(0.01)))\n",
        "model.add(layers.MaxPooling2D((1, 3), strides=(1,3)))\n",
        "model.add(layers.Flatten())\n",
        "model.add(layers.Dense(128, activation='linear',kernel_regularizer=regularizers.l2(0.01)))\n",
        "model.add(layers.Dropout(0.6))\n",
        "model.add(layers.Dense(256, activation='relu',kernel_regularizer=regularizers.l2(0.0001)))\n",
        "model.add(layers.Dropout(0.8))\n",
        "model.add(layers.experimental.RandomFourierFeatures(output_dim=10))\n",
        "model.add(layers.Dense(1, activation='sigmoid'))\n",
        "model.compile(optimizer=tf.keras.optimizers.SGD(),\n",
        "              loss=tf.keras.losses.BinaryCrossentropy(),\n",
        "              metrics=['accuracy',\n",
        "                       tf.keras.metrics.TrueNegatives(),\n",
        "                       tf.keras.metrics.TruePositives(),\n",
        "                       tf.keras.metrics.FalseNegatives(),\n",
        "                       tf.keras.metrics.FalsePositives()])"
      ]
    },
    {
      "cell_type": "code",
      "execution_count": 45,
      "metadata": {
        "colab": {},
        "colab_type": "code",
        "id": "xxWqf07xjrp3"
      },
      "outputs": [
        {
          "name": "stdout",
          "output_type": "stream",
          "text": [
            "Epoch 1/50\n",
            "12/12 [==============================] - 11s 890ms/step - loss: 2.4644 - accuracy: 0.6917 - true_negatives_7: 46.0000 - true_positives_7: 37.0000 - false_negatives_7: 23.0000 - false_positives_7: 14.0000 - val_loss: 2.3688 - val_accuracy: 0.8125 - val_true_negatives_7: 25.0000 - val_true_positives_7: 40.0000 - val_false_negatives_7: 0.0000e+00 - val_false_positives_7: 15.0000\n",
            "Epoch 2/50\n",
            "12/12 [==============================] - 10s 795ms/step - loss: 2.4587 - accuracy: 0.6417 - true_negatives_7: 34.0000 - true_positives_7: 43.0000 - false_negatives_7: 17.0000 - false_positives_7: 26.0000 - val_loss: 2.3794 - val_accuracy: 0.8000 - val_true_negatives_7: 28.0000 - val_true_positives_7: 36.0000 - val_false_negatives_7: 4.0000 - val_false_positives_7: 12.0000\n",
            "Epoch 3/50\n",
            "12/12 [==============================] - 9s 789ms/step - loss: 2.3979 - accuracy: 0.6667 - true_negatives_7: 42.0000 - true_positives_7: 38.0000 - false_negatives_7: 22.0000 - false_positives_7: 18.0000 - val_loss: 2.3589 - val_accuracy: 0.8125 - val_true_negatives_7: 25.0000 - val_true_positives_7: 40.0000 - val_false_negatives_7: 0.0000e+00 - val_false_positives_7: 15.0000\n",
            "Epoch 4/50\n",
            "12/12 [==============================] - 9s 791ms/step - loss: 2.4184 - accuracy: 0.6417 - true_negatives_7: 45.0000 - true_positives_7: 32.0000 - false_negatives_7: 28.0000 - false_positives_7: 15.0000 - val_loss: 2.3504 - val_accuracy: 0.8000 - val_true_negatives_7: 25.0000 - val_true_positives_7: 39.0000 - val_false_negatives_7: 1.0000 - val_false_positives_7: 15.0000\n",
            "Epoch 5/50\n",
            "12/12 [==============================] - 9s 789ms/step - loss: 2.4152 - accuracy: 0.6750 - true_negatives_7: 42.0000 - true_positives_7: 39.0000 - false_negatives_7: 21.0000 - false_positives_7: 18.0000 - val_loss: 2.4547 - val_accuracy: 0.6750 - val_true_negatives_7: 14.0000 - val_true_positives_7: 40.0000 - val_false_negatives_7: 0.0000e+00 - val_false_positives_7: 26.0000\n",
            "Epoch 6/50\n",
            "12/12 [==============================] - 9s 790ms/step - loss: 2.4566 - accuracy: 0.5417 - true_negatives_7: 32.0000 - true_positives_7: 33.0000 - false_negatives_7: 27.0000 - false_positives_7: 28.0000 - val_loss: 2.3079 - val_accuracy: 0.7875 - val_true_negatives_7: 25.0000 - val_true_positives_7: 38.0000 - val_false_negatives_7: 2.0000 - val_false_positives_7: 15.0000\n",
            "Epoch 7/50\n",
            "12/12 [==============================] - 9s 789ms/step - loss: 2.3664 - accuracy: 0.6667 - true_negatives_7: 46.0000 - true_positives_7: 34.0000 - false_negatives_7: 26.0000 - false_positives_7: 14.0000 - val_loss: 2.3073 - val_accuracy: 0.8125 - val_true_negatives_7: 25.0000 - val_true_positives_7: 40.0000 - val_false_negatives_7: 0.0000e+00 - val_false_positives_7: 15.0000\n",
            "Epoch 8/50\n",
            "12/12 [==============================] - 9s 788ms/step - loss: 2.3967 - accuracy: 0.5917 - true_negatives_7: 37.0000 - true_positives_7: 34.0000 - false_negatives_7: 26.0000 - false_positives_7: 23.0000 - val_loss: 2.3161 - val_accuracy: 0.8000 - val_true_negatives_7: 28.0000 - val_true_positives_7: 36.0000 - val_false_negatives_7: 4.0000 - val_false_positives_7: 12.0000\n",
            "Epoch 9/50\n",
            "12/12 [==============================] - 9s 790ms/step - loss: 2.3674 - accuracy: 0.6750 - true_negatives_7: 39.0000 - true_positives_7: 42.0000 - false_negatives_7: 18.0000 - false_positives_7: 21.0000 - val_loss: 2.2852 - val_accuracy: 0.8000 - val_true_negatives_7: 25.0000 - val_true_positives_7: 39.0000 - val_false_negatives_7: 1.0000 - val_false_positives_7: 15.0000\n",
            "Epoch 10/50\n",
            "12/12 [==============================] - 9s 788ms/step - loss: 2.3615 - accuracy: 0.6500 - true_negatives_7: 41.0000 - true_positives_7: 37.0000 - false_negatives_7: 23.0000 - false_positives_7: 19.0000 - val_loss: 2.2874 - val_accuracy: 0.8125 - val_true_negatives_7: 25.0000 - val_true_positives_7: 40.0000 - val_false_negatives_7: 0.0000e+00 - val_false_positives_7: 15.0000\n",
            "Epoch 11/50\n",
            "12/12 [==============================] - 9s 793ms/step - loss: 2.3369 - accuracy: 0.7167 - true_negatives_7: 46.0000 - true_positives_7: 40.0000 - false_negatives_7: 20.0000 - false_positives_7: 14.0000 - val_loss: 2.2789 - val_accuracy: 0.8125 - val_true_negatives_7: 25.0000 - val_true_positives_7: 40.0000 - val_false_negatives_7: 0.0000e+00 - val_false_positives_7: 15.0000\n",
            "Epoch 12/50\n",
            "12/12 [==============================] - 9s 789ms/step - loss: 2.4223 - accuracy: 0.5000 - true_negatives_7: 30.0000 - true_positives_7: 30.0000 - false_negatives_7: 30.0000 - false_positives_7: 30.0000 - val_loss: 2.4245 - val_accuracy: 0.5000 - val_true_negatives_7: 19.0000 - val_true_positives_7: 21.0000 - val_false_negatives_7: 19.0000 - val_false_positives_7: 21.0000\n",
            "Epoch 13/50\n",
            "12/12 [==============================] - 9s 791ms/step - loss: 2.5008 - accuracy: 0.4167 - true_negatives_7: 23.0000 - true_positives_7: 27.0000 - false_negatives_7: 33.0000 - false_positives_7: 37.0000 - val_loss: 3.0409 - val_accuracy: 0.4625 - val_true_negatives_7: 17.0000 - val_true_positives_7: 20.0000 - val_false_negatives_7: 20.0000 - val_false_positives_7: 23.0000\n",
            "Epoch 14/50\n",
            "12/12 [==============================] - 9s 784ms/step - loss: 46.8619 - accuracy: 0.5333 - true_negatives_7: 33.0000 - true_positives_7: 31.0000 - false_negatives_7: 29.0000 - false_positives_7: 27.0000 - val_loss: 50.8721 - val_accuracy: 0.5000 - val_true_negatives_7: 40.0000 - val_true_positives_7: 0.0000e+00 - val_false_negatives_7: 40.0000 - val_false_positives_7: 0.0000e+00\n",
            "Epoch 15/50\n",
            "12/12 [==============================] - 9s 786ms/step - loss: 50.8224 - accuracy: 0.4500 - true_negatives_7: 26.0000 - true_positives_7: 28.0000 - false_negatives_7: 32.0000 - false_positives_7: 34.0000 - val_loss: 50.7156 - val_accuracy: 0.5000 - val_true_negatives_7: 40.0000 - val_true_positives_7: 0.0000e+00 - val_false_negatives_7: 40.0000 - val_false_positives_7: 0.0000e+00\n",
            "Epoch 16/50\n",
            "12/12 [==============================] - 9s 786ms/step - loss: 50.6030 - accuracy: 0.4917 - true_negatives_7: 28.0000 - true_positives_7: 31.0000 - false_negatives_7: 29.0000 - false_positives_7: 32.0000 - val_loss: 50.4585 - val_accuracy: 0.5000 - val_true_negatives_7: 40.0000 - val_true_positives_7: 0.0000e+00 - val_false_negatives_7: 40.0000 - val_false_positives_7: 0.0000e+00\n"
          ]
        },
        {
          "data": {
            "image/png": "[encoded data removed]",
            "text/plain": [
              "<Figure size 432x288 with 1 Axes>"
            ]
          },
          "metadata": {
            "needs_background": "light"
          },
          "output_type": "display_data"
        },
        {
          "data": {
            "image/png": "[encoded data removed]",
            "text/plain": [
              "<Figure size 432x288 with 1 Axes>"
            ]
          },
          "metadata": {
            "needs_background": "light"
          },
          "output_type": "display_data"
        }
      ],
      "source": [
        "# fitiing\n",
        "history=model.fit(train_generator,epochs=100,validation_data=val_generator,shuffle=True,\n",
        "                            callbacks=[callbacks.EarlyStopping(monitor='val_loss', patience=5,restore_best_weights=True)])\n",
        "# using early stopping method to train the model to achieve maximum accuracy\n",
        "plt.plot(history.history['loss'])\n",
        "plt.plot(history.history['val_loss'])\n",
        "plt.title('loss')\n",
        "plt.ylabel('loss')\n",
        "plt.xlabel('epoch')\n",
        "plt.legend(['train', 'val'], loc='upper left')\n",
        "plt.show()\n",
        "plt.plot(history.history['loss'])\n",
        "plt.plot(history.history['val_loss'])\n",
        "plt.title('loss')\n",
        "plt.ylabel('loss')\n",
        "plt.xlabel('epoch')\n",
        "plt.legend(['train', 'val'], loc='upper left')\n",
        "plt.show()"
      ]
    },
    {
      "cell_type": "code",
      "execution_count": 46,
      "metadata": {
        "colab": {},
        "colab_type": "code",
        "id": "lTU-qpGgLUqf"
      },
      "outputs": [
        {
          "name": "stdout",
          "output_type": "stream",
          "text": [
            "3/3 [==============================] - 1s 274ms/step - loss: 2.2789 - accuracy: 0.8125 - true_negatives_7: 25.0000 - true_positives_7: 40.0000 - false_negatives_7: 0.0000e+00 - false_positives_7: 15.0000\n",
            "0.8125\n",
            "40.0 15.0\n",
            "0.0 40.0\n"
          ]
        }
      ],
      "source": [
        "#testing \n",
        "loss,accuracy,tn,tp,fn,fp=model.evaluate(val_generator)\n",
        "print(accuracy)\n",
        "print(tp,fp,)\n",
        "print(fn,tp)"
      ]
    },
    {
      "cell_type": "code",
      "execution_count": 47,
      "metadata": {},
      "outputs": [
        {
          "name": "stdout",
          "output_type": "stream",
          "text": [
            "12/12 [==============================] - 2s 138ms/step - loss: 2.2883 - accuracy: 0.7750 - true_negatives_7: 42.0000 - true_positives_7: 51.0000 - false_negatives_7: 9.0000 - false_positives_7: 18.0000\n",
            "0.7749999761581421\n",
            "51.0 18.0\n",
            "9.0 51.0\n"
          ]
        }
      ],
      "source": [
        "loss,accuracy,tn,tp,fn,fp = model.evaluate(train_generator)\n",
        "print(accuracy)\n",
        "print(tp,fp,)\n",
        "print(fn,tp)"
      ]
    },
    {
      "cell_type": "code",
      "execution_count": null,
      "metadata": {},
      "outputs": [],
      "source": []
    },
    {
      "cell_type": "code",
      "execution_count": null,
      "metadata": {},
      "outputs": [],
      "source": []
    }
  ],
  "metadata": {
    "colab": {
      "name": "Untitled15.ipynb",
      "provenance": []
    },
    "interpreter": {
      "hash": "4155c6aabd79feaddd2a107c3328b8e7f59a22d3e4f07c5dafc6e15105329367"
    },
    "kernelspec": {
      "display_name": "Python 3.8.13 ('tf')",
      "language": "python",
      "name": "python3"
    },
    "language_info": {
      "codemirror_mode": {
        "name": "ipython",
        "version": 3
      },
      "file_extension": ".py",
      "mimetype": "text/x-python",
      "name": "python",
      "nbconvert_exporter": "python",
      "pygments_lexer": "ipython3",
      "version": "3.8.13"
    }
  },
  "nbformat": 4,
  "nbformat_minor": 0
}
