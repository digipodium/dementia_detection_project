{
  "cells": [
    {
      "cell_type": "code",
      "execution_count": 7,
      "metadata": {
        "colab": {},
        "colab_type": "code",
        "id": "uEwcnJkaRyKf"
      },
      "outputs": [],
      "source": [
        "#preprocessing images\n",
        "import tensorflow as tf\n",
        "from tensorflow.keras import layers, models,preprocessing,regularizers,callbacks\n",
        "from matplotlib import pyplot as plt"
      ]
    },
    {
      "cell_type": "code",
      "execution_count": 8,
      "metadata": {},
      "outputs": [
        {
          "data": {
            "text/plain": [
              "keras.layers.kernelized.RandomFourierFeatures"
            ]
          },
          "execution_count": 8,
          "metadata": {},
          "output_type": "execute_result"
        }
      ],
      "source": [
        "tf.keras.layers.experimental.RandomFourierFeatures"
      ]
    },
    {
      "cell_type": "code",
      "execution_count": 9,
      "metadata": {},
      "outputs": [
        {
          "name": "stdout",
          "output_type": "stream",
          "text": [
            "Found 120 images belonging to 2 classes.\n",
            "Found 80 images belonging to 2 classes.\n"
          ]
        }
      ],
      "source": [
        "datagen = preprocessing.image.ImageDataGenerator(rescale=1/255)# normalisation\n",
        "train_generator = datagen.flow_from_directory(\n",
        "        '../datasets/spectrogram/train',\n",
        "        batch_size=10,\n",
        "        target_size=(512,512),\n",
        "        class_mode='binary')\n",
        "val_generator = datagen.flow_from_directory(\n",
        "        '../datasets/spectrogram/test',\n",
        "        color_mode='rgb',\n",
        "        target_size=(512,512),\n",
        "        class_mode='binary')\n"
      ]
    },
    {
      "cell_type": "code",
      "execution_count": 19,
      "metadata": {
        "colab": {},
        "colab_type": "code",
        "id": "pLn8a1D2yjMf"
      },
      "outputs": [],
      "source": [
        "# model\n",
        "model = models.Sequential()\n",
        "model.add(layers.Conv2D(32, (5,5), activation='relu', input_shape=(512, 512, 3)))\n",
        "model.add(layers.MaxPooling2D((4, 4), strides=4))\n",
        "model.add(layers.Conv2D(32, (3, 3), activation='relu',kernel_regularizer=regularizers.l2(0.01)))\n",
        "model.add(layers.MaxPooling2D((1, 3), strides=(1,3)))\n",
        "model.add(layers.Flatten())\n",
        "model.add(layers.Dense(128, activation='linear',kernel_regularizer=regularizers.l2(0.01)))\n",
        "model.add(layers.Dropout(0.6))\n",
        "model.add(layers.Dense(256, activation='relu',kernel_regularizer=regularizers.l2(0.0001)))\n",
        "model.add(layers.Dropout(0.8))\n",
        "model.add(layers.experimental.RandomFourierFeatures(output_dim=10))\n",
        "model.add(layers.Dense(1, activation='sigmoid'))\n",
        "model.compile(optimizer=tf.keras.optimizers.SGD(),\n",
        "              loss=tf.keras.losses.BinaryCrossentropy(),\n",
        "              metrics=['accuracy',\n",
        "                       tf.keras.metrics.TrueNegatives(),\n",
        "                       tf.keras.metrics.TruePositives(),\n",
        "                       tf.keras.metrics.FalseNegatives(),\n",
        "                       tf.keras.metrics.FalsePositives()])"
      ]
    },
    {
      "cell_type": "code",
      "execution_count": 20,
      "metadata": {
        "colab": {},
        "colab_type": "code",
        "id": "xxWqf07xjrp3"
      },
      "outputs": [
        {
          "name": "stdout",
          "output_type": "stream",
          "text": [
            "Epoch 1/100\n",
            "12/12 [==============================] - 19s 1s/step - loss: 3.6606 - accuracy: 0.5000 - true_negatives_2: 30.0000 - true_positives_2: 30.0000 - false_negatives_2: 30.0000 - false_positives_2: 30.0000 - val_loss: 3.6165 - val_accuracy: 0.5000 - val_true_negatives_2: 0.0000e+00 - val_true_positives_2: 40.0000 - val_false_negatives_2: 0.0000e+00 - val_false_positives_2: 40.0000\n",
            "Epoch 2/100\n",
            "12/12 [==============================] - 15s 1s/step - loss: 3.6433 - accuracy: 0.4917 - true_negatives_2: 17.0000 - true_positives_2: 42.0000 - false_negatives_2: 18.0000 - false_positives_2: 43.0000 - val_loss: 3.6091 - val_accuracy: 0.5000 - val_true_negatives_2: 0.0000e+00 - val_true_positives_2: 40.0000 - val_false_negatives_2: 0.0000e+00 - val_false_positives_2: 40.0000\n",
            "Epoch 3/100\n",
            "12/12 [==============================] - 15s 1s/step - loss: 3.6086 - accuracy: 0.5000 - true_negatives_2: 0.0000e+00 - true_positives_2: 60.0000 - false_negatives_2: 0.0000e+00 - false_positives_2: 60.0000 - val_loss: 3.5828 - val_accuracy: 0.5000 - val_true_negatives_2: 0.0000e+00 - val_true_positives_2: 40.0000 - val_false_negatives_2: 0.0000e+00 - val_false_positives_2: 40.0000\n",
            "Epoch 4/100\n",
            "12/12 [==============================] - 15s 1s/step - loss: 3.5803 - accuracy: 0.5000 - true_negatives_2: 0.0000e+00 - true_positives_2: 60.0000 - false_negatives_2: 0.0000e+00 - false_positives_2: 60.0000 - val_loss: 3.5653 - val_accuracy: 0.5000 - val_true_negatives_2: 0.0000e+00 - val_true_positives_2: 40.0000 - val_false_negatives_2: 0.0000e+00 - val_false_positives_2: 40.0000\n",
            "Epoch 5/100\n",
            "12/12 [==============================] - 15s 1s/step - loss: 3.5608 - accuracy: 0.5000 - true_negatives_2: 0.0000e+00 - true_positives_2: 60.0000 - false_negatives_2: 0.0000e+00 - false_positives_2: 60.0000 - val_loss: 3.5493 - val_accuracy: 0.5000 - val_true_negatives_2: 0.0000e+00 - val_true_positives_2: 40.0000 - val_false_negatives_2: 0.0000e+00 - val_false_positives_2: 40.0000\n",
            "Epoch 6/100\n",
            "12/12 [==============================] - 15s 1s/step - loss: 3.5449 - accuracy: 0.5083 - true_negatives_2: 2.0000 - true_positives_2: 59.0000 - false_negatives_2: 1.0000 - false_positives_2: 58.0000 - val_loss: 3.5336 - val_accuracy: 0.5000 - val_true_negatives_2: 0.0000e+00 - val_true_positives_2: 40.0000 - val_false_negatives_2: 0.0000e+00 - val_false_positives_2: 40.0000\n",
            "Epoch 7/100\n",
            "12/12 [==============================] - 15s 1s/step - loss: 3.5355 - accuracy: 0.4833 - true_negatives_2: 4.0000 - true_positives_2: 54.0000 - false_negatives_2: 6.0000 - false_positives_2: 56.0000 - val_loss: 3.5197 - val_accuracy: 0.5000 - val_true_negatives_2: 0.0000e+00 - val_true_positives_2: 40.0000 - val_false_negatives_2: 0.0000e+00 - val_false_positives_2: 40.0000\n",
            "Epoch 8/100\n",
            "12/12 [==============================] - 15s 1s/step - loss: 3.5166 - accuracy: 0.4917 - true_negatives_2: 6.0000 - true_positives_2: 53.0000 - false_negatives_2: 7.0000 - false_positives_2: 54.0000 - val_loss: 3.5055 - val_accuracy: 0.5000 - val_true_negatives_2: 0.0000e+00 - val_true_positives_2: 40.0000 - val_false_negatives_2: 0.0000e+00 - val_false_positives_2: 40.0000\n",
            "Epoch 9/100\n",
            "12/12 [==============================] - 15s 1s/step - loss: 3.5019 - accuracy: 0.5333 - true_negatives_2: 14.0000 - true_positives_2: 50.0000 - false_negatives_2: 10.0000 - false_positives_2: 46.0000 - val_loss: 3.4913 - val_accuracy: 0.5000 - val_true_negatives_2: 0.0000e+00 - val_true_positives_2: 40.0000 - val_false_negatives_2: 0.0000e+00 - val_false_positives_2: 40.0000\n",
            "Epoch 10/100\n",
            "12/12 [==============================] - 15s 1s/step - loss: 3.4912 - accuracy: 0.5000 - true_negatives_2: 9.0000 - true_positives_2: 51.0000 - false_negatives_2: 9.0000 - false_positives_2: 51.0000 - val_loss: 3.4785 - val_accuracy: 0.5000 - val_true_negatives_2: 0.0000e+00 - val_true_positives_2: 40.0000 - val_false_negatives_2: 0.0000e+00 - val_false_positives_2: 40.0000\n",
            "Epoch 11/100\n",
            "12/12 [==============================] - 15s 1s/step - loss: 3.4781 - accuracy: 0.5083 - true_negatives_2: 33.0000 - true_positives_2: 28.0000 - false_negatives_2: 32.0000 - false_positives_2: 27.0000 - val_loss: 3.4650 - val_accuracy: 0.5000 - val_true_negatives_2: 0.0000e+00 - val_true_positives_2: 40.0000 - val_false_negatives_2: 0.0000e+00 - val_false_positives_2: 40.0000\n",
            "Epoch 12/100\n",
            "12/12 [==============================] - 15s 1s/step - loss: 3.4637 - accuracy: 0.5000 - true_negatives_2: 16.0000 - true_positives_2: 44.0000 - false_negatives_2: 16.0000 - false_positives_2: 44.0000 - val_loss: 3.4519 - val_accuracy: 0.6750 - val_true_negatives_2: 14.0000 - val_true_positives_2: 40.0000 - val_false_negatives_2: 0.0000e+00 - val_false_positives_2: 26.0000\n",
            "Epoch 13/100\n",
            "12/12 [==============================] - 15s 1s/step - loss: 3.4470 - accuracy: 0.5417 - true_negatives_2: 17.0000 - true_positives_2: 48.0000 - false_negatives_2: 12.0000 - false_positives_2: 43.0000 - val_loss: 3.4374 - val_accuracy: 0.8125 - val_true_negatives_2: 30.0000 - val_true_positives_2: 35.0000 - val_false_negatives_2: 5.0000 - val_false_positives_2: 10.0000\n",
            "Epoch 14/100\n",
            "12/12 [==============================] - 15s 1s/step - loss: 3.4349 - accuracy: 0.5083 - true_negatives_2: 20.0000 - true_positives_2: 41.0000 - false_negatives_2: 19.0000 - false_positives_2: 40.0000 - val_loss: 3.4265 - val_accuracy: 0.5000 - val_true_negatives_2: 0.0000e+00 - val_true_positives_2: 40.0000 - val_false_negatives_2: 0.0000e+00 - val_false_positives_2: 40.0000\n",
            "Epoch 15/100\n",
            "12/12 [==============================] - 15s 1s/step - loss: 3.4184 - accuracy: 0.5750 - true_negatives_2: 25.0000 - true_positives_2: 44.0000 - false_negatives_2: 16.0000 - false_positives_2: 35.0000 - val_loss: 3.4161 - val_accuracy: 0.4500 - val_true_negatives_2: 0.0000e+00 - val_true_positives_2: 36.0000 - val_false_negatives_2: 4.0000 - val_false_positives_2: 40.0000\n",
            "Epoch 16/100\n",
            "12/12 [==============================] - 15s 1s/step - loss: 3.4204 - accuracy: 0.4917 - true_negatives_2: 31.0000 - true_positives_2: 28.0000 - false_negatives_2: 32.0000 - false_positives_2: 29.0000 - val_loss: 3.3964 - val_accuracy: 0.8000 - val_true_negatives_2: 25.0000 - val_true_positives_2: 39.0000 - val_false_negatives_2: 1.0000 - val_false_positives_2: 15.0000\n",
            "Epoch 17/100\n",
            "12/12 [==============================] - 15s 1s/step - loss: 3.3930 - accuracy: 0.5833 - true_negatives_2: 40.0000 - true_positives_2: 30.0000 - false_negatives_2: 30.0000 - false_positives_2: 20.0000 - val_loss: 3.3818 - val_accuracy: 0.8000 - val_true_negatives_2: 24.0000 - val_true_positives_2: 40.0000 - val_false_negatives_2: 0.0000e+00 - val_false_positives_2: 16.0000\n",
            "Epoch 18/100\n",
            "12/12 [==============================] - 15s 1s/step - loss: 3.3847 - accuracy: 0.5250 - true_negatives_2: 26.0000 - true_positives_2: 37.0000 - false_negatives_2: 23.0000 - false_positives_2: 34.0000 - val_loss: 3.3671 - val_accuracy: 0.6750 - val_true_negatives_2: 14.0000 - val_true_positives_2: 40.0000 - val_false_negatives_2: 0.0000e+00 - val_false_positives_2: 26.0000\n",
            "Epoch 19/100\n",
            "12/12 [==============================] - 15s 1s/step - loss: 3.3634 - accuracy: 0.5833 - true_negatives_2: 30.0000 - true_positives_2: 40.0000 - false_negatives_2: 20.0000 - false_positives_2: 30.0000 - val_loss: 3.3527 - val_accuracy: 0.7875 - val_true_negatives_2: 25.0000 - val_true_positives_2: 38.0000 - val_false_negatives_2: 2.0000 - val_false_positives_2: 15.0000\n",
            "Epoch 20/100\n",
            "12/12 [==============================] - 15s 1s/step - loss: 3.3554 - accuracy: 0.5250 - true_negatives_2: 31.0000 - true_positives_2: 32.0000 - false_negatives_2: 28.0000 - false_positives_2: 29.0000 - val_loss: 3.3451 - val_accuracy: 0.5250 - val_true_negatives_2: 3.0000 - val_true_positives_2: 39.0000 - val_false_negatives_2: 1.0000 - val_false_positives_2: 37.0000\n",
            "Epoch 21/100\n",
            "12/12 [==============================] - 15s 1s/step - loss: 3.3516 - accuracy: 0.5500 - true_negatives_2: 38.0000 - true_positives_2: 28.0000 - false_negatives_2: 32.0000 - false_positives_2: 22.0000 - val_loss: 3.3311 - val_accuracy: 0.5875 - val_true_negatives_2: 40.0000 - val_true_positives_2: 7.0000 - val_false_negatives_2: 33.0000 - val_false_positives_2: 0.0000e+00\n",
            "Epoch 22/100\n",
            "12/12 [==============================] - 72s 6s/step - loss: 3.3321 - accuracy: 0.5667 - true_negatives_2: 48.0000 - true_positives_2: 20.0000 - false_negatives_2: 40.0000 - false_positives_2: 12.0000 - val_loss: 3.3206 - val_accuracy: 0.4875 - val_true_negatives_2: 0.0000e+00 - val_true_positives_2: 39.0000 - val_false_negatives_2: 1.0000 - val_false_positives_2: 40.0000\n",
            "Epoch 23/100\n",
            "12/12 [==============================] - 11s 946ms/step - loss: 3.3244 - accuracy: 0.5083 - true_negatives_2: 25.0000 - true_positives_2: 36.0000 - false_negatives_2: 24.0000 - false_positives_2: 35.0000 - val_loss: 3.3056 - val_accuracy: 0.6750 - val_true_negatives_2: 37.0000 - val_true_positives_2: 17.0000 - val_false_negatives_2: 23.0000 - val_false_positives_2: 3.0000\n",
            "Epoch 24/100\n",
            "12/12 [==============================] - 10s 858ms/step - loss: 3.3104 - accuracy: 0.5083 - true_negatives_2: 37.0000 - true_positives_2: 24.0000 - false_negatives_2: 36.0000 - false_positives_2: 23.0000 - val_loss: 3.2920 - val_accuracy: 0.8000 - val_true_negatives_2: 25.0000 - val_true_positives_2: 39.0000 - val_false_negatives_2: 1.0000 - val_false_positives_2: 15.0000\n",
            "Epoch 25/100\n",
            "12/12 [==============================] - 10s 845ms/step - loss: 3.2858 - accuracy: 0.6000 - true_negatives_2: 33.0000 - true_positives_2: 39.0000 - false_negatives_2: 21.0000 - false_positives_2: 27.0000 - val_loss: 3.2783 - val_accuracy: 0.6625 - val_true_negatives_2: 14.0000 - val_true_positives_2: 39.0000 - val_false_negatives_2: 1.0000 - val_false_positives_2: 26.0000\n",
            "Epoch 26/100\n",
            "12/12 [==============================] - 10s 848ms/step - loss: 3.2816 - accuracy: 0.5750 - true_negatives_2: 33.0000 - true_positives_2: 36.0000 - false_negatives_2: 24.0000 - false_positives_2: 27.0000 - val_loss: 3.2683 - val_accuracy: 0.5000 - val_true_negatives_2: 0.0000e+00 - val_true_positives_2: 40.0000 - val_false_negatives_2: 0.0000e+00 - val_false_positives_2: 40.0000\n",
            "Epoch 27/100\n",
            "12/12 [==============================] - 10s 849ms/step - loss: 3.2671 - accuracy: 0.5833 - true_negatives_2: 25.0000 - true_positives_2: 45.0000 - false_negatives_2: 15.0000 - false_positives_2: 35.0000 - val_loss: 3.2501 - val_accuracy: 0.6625 - val_true_negatives_2: 14.0000 - val_true_positives_2: 39.0000 - val_false_negatives_2: 1.0000 - val_false_positives_2: 26.0000\n",
            "Epoch 28/100\n",
            "12/12 [==============================] - 10s 847ms/step - loss: 3.2684 - accuracy: 0.5250 - true_negatives_2: 27.0000 - true_positives_2: 36.0000 - false_negatives_2: 24.0000 - false_positives_2: 33.0000 - val_loss: 3.2400 - val_accuracy: 0.7375 - val_true_negatives_2: 25.0000 - val_true_positives_2: 34.0000 - val_false_negatives_2: 6.0000 - val_false_positives_2: 15.0000\n",
            "Epoch 29/100\n",
            "12/12 [==============================] - 10s 842ms/step - loss: 3.2503 - accuracy: 0.4750 - true_negatives_2: 38.0000 - true_positives_2: 19.0000 - false_negatives_2: 41.0000 - false_positives_2: 22.0000 - val_loss: 3.2228 - val_accuracy: 0.7625 - val_true_negatives_2: 28.0000 - val_true_positives_2: 33.0000 - val_false_negatives_2: 7.0000 - val_false_positives_2: 12.0000\n",
            "Epoch 30/100\n",
            "12/12 [==============================] - 11s 906ms/step - loss: 3.2293 - accuracy: 0.5917 - true_negatives_2: 41.0000 - true_positives_2: 30.0000 - false_negatives_2: 30.0000 - false_positives_2: 19.0000 - val_loss: 3.2181 - val_accuracy: 0.5000 - val_true_negatives_2: 0.0000e+00 - val_true_positives_2: 40.0000 - val_false_negatives_2: 0.0000e+00 - val_false_positives_2: 40.0000\n",
            "Epoch 31/100\n",
            "12/12 [==============================] - 10s 868ms/step - loss: 3.2122 - accuracy: 0.5583 - true_negatives_2: 31.0000 - true_positives_2: 36.0000 - false_negatives_2: 24.0000 - false_positives_2: 29.0000 - val_loss: 3.1887 - val_accuracy: 0.7875 - val_true_negatives_2: 25.0000 - val_true_positives_2: 38.0000 - val_false_negatives_2: 2.0000 - val_false_positives_2: 15.0000\n",
            "Epoch 32/100\n",
            "12/12 [==============================] - 11s 905ms/step - loss: 3.1925 - accuracy: 0.5500 - true_negatives_2: 33.0000 - true_positives_2: 33.0000 - false_negatives_2: 27.0000 - false_positives_2: 27.0000 - val_loss: 3.1909 - val_accuracy: 0.5250 - val_true_negatives_2: 40.0000 - val_true_positives_2: 2.0000 - val_false_negatives_2: 38.0000 - val_false_positives_2: 0.0000e+00\n",
            "Epoch 33/100\n",
            "12/12 [==============================] - 10s 874ms/step - loss: 3.1816 - accuracy: 0.6417 - true_negatives_2: 49.0000 - true_positives_2: 28.0000 - false_negatives_2: 32.0000 - false_positives_2: 11.0000 - val_loss: 3.2206 - val_accuracy: 0.4875 - val_true_negatives_2: 0.0000e+00 - val_true_positives_2: 39.0000 - val_false_negatives_2: 1.0000 - val_false_positives_2: 40.0000\n",
            "Epoch 34/100\n",
            "12/12 [==============================] - 10s 841ms/step - loss: 3.2218 - accuracy: 0.4833 - true_negatives_2: 29.0000 - true_positives_2: 29.0000 - false_negatives_2: 31.0000 - false_positives_2: 31.0000 - val_loss: 3.1626 - val_accuracy: 0.7125 - val_true_negatives_2: 25.0000 - val_true_positives_2: 32.0000 - val_false_negatives_2: 8.0000 - val_false_positives_2: 15.0000\n",
            "Epoch 35/100\n",
            "12/12 [==============================] - 10s 871ms/step - loss: 3.1947 - accuracy: 0.5667 - true_negatives_2: 54.0000 - true_positives_2: 14.0000 - false_negatives_2: 46.0000 - false_positives_2: 6.0000 - val_loss: 3.1780 - val_accuracy: 0.5000 - val_true_negatives_2: 40.0000 - val_true_positives_2: 0.0000e+00 - val_false_negatives_2: 40.0000 - val_false_positives_2: 0.0000e+00\n",
            "Epoch 36/100\n",
            "12/12 [==============================] - 10s 853ms/step - loss: 3.1732 - accuracy: 0.5250 - true_negatives_2: 47.0000 - true_positives_2: 16.0000 - false_negatives_2: 44.0000 - false_positives_2: 13.0000 - val_loss: 3.1684 - val_accuracy: 0.5000 - val_true_negatives_2: 40.0000 - val_true_positives_2: 0.0000e+00 - val_false_negatives_2: 40.0000 - val_false_positives_2: 0.0000e+00\n",
            "Epoch 37/100\n",
            "12/12 [==============================] - 10s 847ms/step - loss: 3.1708 - accuracy: 0.5000 - true_negatives_2: 53.0000 - true_positives_2: 7.0000 - false_negatives_2: 53.0000 - false_positives_2: 7.0000 - val_loss: 3.1563 - val_accuracy: 0.5000 - val_true_negatives_2: 40.0000 - val_true_positives_2: 0.0000e+00 - val_false_negatives_2: 40.0000 - val_false_positives_2: 0.0000e+00\n",
            "Epoch 38/100\n",
            "12/12 [==============================] - 10s 857ms/step - loss: 3.1562 - accuracy: 0.4500 - true_negatives_2: 42.0000 - true_positives_2: 12.0000 - false_negatives_2: 48.0000 - false_positives_2: 18.0000 - val_loss: 3.1439 - val_accuracy: 0.5000 - val_true_negatives_2: 40.0000 - val_true_positives_2: 0.0000e+00 - val_false_negatives_2: 40.0000 - val_false_positives_2: 0.0000e+00\n",
            "Epoch 39/100\n",
            "12/12 [==============================] - 10s 856ms/step - loss: 3.1470 - accuracy: 0.4500 - true_negatives_2: 45.0000 - true_positives_2: 9.0000 - false_negatives_2: 51.0000 - false_positives_2: 15.0000 - val_loss: 3.1327 - val_accuracy: 0.5000 - val_true_negatives_2: 40.0000 - val_true_positives_2: 0.0000e+00 - val_false_negatives_2: 40.0000 - val_false_positives_2: 0.0000e+00\n",
            "Epoch 40/100\n",
            "12/12 [==============================] - 11s 897ms/step - loss: 3.1312 - accuracy: 0.4833 - true_negatives_2: 47.0000 - true_positives_2: 11.0000 - false_negatives_2: 49.0000 - false_positives_2: 13.0000 - val_loss: 3.1208 - val_accuracy: 0.5125 - val_true_negatives_2: 40.0000 - val_true_positives_2: 1.0000 - val_false_negatives_2: 39.0000 - val_false_positives_2: 0.0000e+00\n",
            "Epoch 41/100\n",
            "12/12 [==============================] - 10s 874ms/step - loss: 3.1198 - accuracy: 0.5167 - true_negatives_2: 46.0000 - true_positives_2: 16.0000 - false_negatives_2: 44.0000 - false_positives_2: 14.0000 - val_loss: 3.1094 - val_accuracy: 0.5250 - val_true_negatives_2: 40.0000 - val_true_positives_2: 2.0000 - val_false_negatives_2: 38.0000 - val_false_positives_2: 0.0000e+00\n",
            "Epoch 42/100\n",
            "12/12 [==============================] - 10s 823ms/step - loss: 3.1077 - accuracy: 0.5083 - true_negatives_2: 25.0000 - true_positives_2: 36.0000 - false_negatives_2: 24.0000 - false_positives_2: 35.0000 - val_loss: 3.0973 - val_accuracy: 0.5750 - val_true_negatives_2: 39.0000 - val_true_positives_2: 7.0000 - val_false_negatives_2: 33.0000 - val_false_positives_2: 1.0000\n",
            "Epoch 43/100\n",
            "12/12 [==============================] - 11s 881ms/step - loss: 3.0970 - accuracy: 0.5000 - true_negatives_2: 45.0000 - true_positives_2: 15.0000 - false_negatives_2: 45.0000 - false_positives_2: 15.0000 - val_loss: 3.0854 - val_accuracy: 0.7500 - val_true_negatives_2: 31.0000 - val_true_positives_2: 29.0000 - val_false_negatives_2: 11.0000 - val_false_positives_2: 9.0000\n",
            "Epoch 44/100\n",
            "12/12 [==============================] - 10s 849ms/step - loss: 3.0774 - accuracy: 0.6083 - true_negatives_2: 45.0000 - true_positives_2: 28.0000 - false_negatives_2: 32.0000 - false_positives_2: 15.0000 - val_loss: 3.0722 - val_accuracy: 0.6750 - val_true_negatives_2: 15.0000 - val_true_positives_2: 39.0000 - val_false_negatives_2: 1.0000 - val_false_positives_2: 25.0000\n",
            "Epoch 45/100\n",
            "12/12 [==============================] - 10s 870ms/step - loss: 3.0984 - accuracy: 0.5833 - true_negatives_2: 31.0000 - true_positives_2: 39.0000 - false_negatives_2: 21.0000 - false_positives_2: 29.0000 - val_loss: 3.1558 - val_accuracy: 0.5000 - val_true_negatives_2: 40.0000 - val_true_positives_2: 0.0000e+00 - val_false_negatives_2: 40.0000 - val_false_positives_2: 0.0000e+00\n",
            "Epoch 46/100\n",
            "12/12 [==============================] - 10s 870ms/step - loss: 3.1134 - accuracy: 0.5250 - true_negatives_2: 29.0000 - true_positives_2: 34.0000 - false_negatives_2: 26.0000 - false_positives_2: 31.0000 - val_loss: 3.0869 - val_accuracy: 0.3875 - val_true_negatives_2: 0.0000e+00 - val_true_positives_2: 31.0000 - val_false_negatives_2: 9.0000 - val_false_positives_2: 40.0000\n",
            "Epoch 47/100\n",
            "12/12 [==============================] - 10s 879ms/step - loss: 3.0825 - accuracy: 0.4750 - true_negatives_2: 2.0000 - true_positives_2: 55.0000 - false_negatives_2: 5.0000 - false_positives_2: 58.0000 - val_loss: 3.0745 - val_accuracy: 0.3875 - val_true_negatives_2: 0.0000e+00 - val_true_positives_2: 31.0000 - val_false_negatives_2: 9.0000 - val_false_positives_2: 40.0000\n",
            "Epoch 48/100\n",
            "12/12 [==============================] - 10s 862ms/step - loss: 3.0681 - accuracy: 0.4917 - true_negatives_2: 15.0000 - true_positives_2: 44.0000 - false_negatives_2: 16.0000 - false_positives_2: 45.0000 - val_loss: 3.0628 - val_accuracy: 0.3875 - val_true_negatives_2: 0.0000e+00 - val_true_positives_2: 31.0000 - val_false_negatives_2: 9.0000 - val_false_positives_2: 40.0000\n",
            "Epoch 49/100\n",
            "12/12 [==============================] - 10s 865ms/step - loss: 3.0556 - accuracy: 0.5333 - true_negatives_2: 20.0000 - true_positives_2: 44.0000 - false_negatives_2: 16.0000 - false_positives_2: 40.0000 - val_loss: 3.0518 - val_accuracy: 0.4250 - val_true_negatives_2: 3.0000 - val_true_positives_2: 31.0000 - val_false_negatives_2: 9.0000 - val_false_positives_2: 37.0000\n",
            "Epoch 50/100\n",
            "12/12 [==============================] - 10s 856ms/step - loss: 3.0450 - accuracy: 0.5083 - true_negatives_2: 26.0000 - true_positives_2: 35.0000 - false_negatives_2: 25.0000 - false_positives_2: 34.0000 - val_loss: 3.0405 - val_accuracy: 0.6125 - val_true_negatives_2: 18.0000 - val_true_positives_2: 31.0000 - val_false_negatives_2: 9.0000 - val_false_positives_2: 22.0000\n",
            "Epoch 51/100\n",
            "12/12 [==============================] - 11s 907ms/step - loss: 3.0345 - accuracy: 0.4750 - true_negatives_2: 23.0000 - true_positives_2: 34.0000 - false_negatives_2: 26.0000 - false_positives_2: 37.0000 - val_loss: 3.0290 - val_accuracy: 0.5500 - val_true_negatives_2: 13.0000 - val_true_positives_2: 31.0000 - val_false_negatives_2: 9.0000 - val_false_positives_2: 27.0000\n",
            "Epoch 52/100\n",
            "12/12 [==============================] - 11s 893ms/step - loss: 3.0247 - accuracy: 0.4750 - true_negatives_2: 23.0000 - true_positives_2: 34.0000 - false_negatives_2: 26.0000 - false_positives_2: 37.0000 - val_loss: 3.0179 - val_accuracy: 0.6750 - val_true_negatives_2: 23.0000 - val_true_positives_2: 31.0000 - val_false_negatives_2: 9.0000 - val_false_positives_2: 17.0000\n",
            "Epoch 53/100\n",
            "12/12 [==============================] - 10s 854ms/step - loss: 3.0131 - accuracy: 0.4500 - true_negatives_2: 22.0000 - true_positives_2: 32.0000 - false_negatives_2: 28.0000 - false_positives_2: 38.0000 - val_loss: 3.0065 - val_accuracy: 0.7000 - val_true_negatives_2: 31.0000 - val_true_positives_2: 25.0000 - val_false_negatives_2: 15.0000 - val_false_positives_2: 9.0000\n",
            "Epoch 54/100\n",
            "12/12 [==============================] - 10s 857ms/step - loss: 3.0014 - accuracy: 0.4750 - true_negatives_2: 25.0000 - true_positives_2: 32.0000 - false_negatives_2: 28.0000 - false_positives_2: 35.0000 - val_loss: 2.9953 - val_accuracy: 0.7250 - val_true_negatives_2: 33.0000 - val_true_positives_2: 25.0000 - val_false_negatives_2: 15.0000 - val_false_positives_2: 7.0000\n",
            "Epoch 55/100\n",
            "12/12 [==============================] - 10s 852ms/step - loss: 2.9931 - accuracy: 0.4417 - true_negatives_2: 13.0000 - true_positives_2: 40.0000 - false_negatives_2: 20.0000 - false_positives_2: 47.0000 - val_loss: 2.9843 - val_accuracy: 0.7250 - val_true_negatives_2: 33.0000 - val_true_positives_2: 25.0000 - val_false_negatives_2: 15.0000 - val_false_positives_2: 7.0000\n",
            "Epoch 56/100\n",
            "12/12 [==============================] - 10s 855ms/step - loss: 2.9806 - accuracy: 0.4750 - true_negatives_2: 21.0000 - true_positives_2: 36.0000 - false_negatives_2: 24.0000 - false_positives_2: 39.0000 - val_loss: 2.9732 - val_accuracy: 0.7375 - val_true_negatives_2: 39.0000 - val_true_positives_2: 20.0000 - val_false_negatives_2: 20.0000 - val_false_positives_2: 1.0000\n",
            "Epoch 57/100\n",
            "12/12 [==============================] - 10s 873ms/step - loss: 2.9686 - accuracy: 0.5417 - true_negatives_2: 37.0000 - true_positives_2: 28.0000 - false_negatives_2: 32.0000 - false_positives_2: 23.0000 - val_loss: 2.9625 - val_accuracy: 0.7250 - val_true_negatives_2: 33.0000 - val_true_positives_2: 25.0000 - val_false_negatives_2: 15.0000 - val_false_positives_2: 7.0000\n",
            "Epoch 58/100\n",
            "12/12 [==============================] - 11s 881ms/step - loss: 2.9627 - accuracy: 0.4000 - true_negatives_2: 23.0000 - true_positives_2: 25.0000 - false_negatives_2: 35.0000 - false_positives_2: 37.0000 - val_loss: 2.9516 - val_accuracy: 0.6500 - val_true_negatives_2: 25.0000 - val_true_positives_2: 27.0000 - val_false_negatives_2: 13.0000 - val_false_positives_2: 15.0000\n",
            "Epoch 59/100\n",
            "12/12 [==============================] - 10s 868ms/step - loss: 2.9457 - accuracy: 0.5833 - true_negatives_2: 33.0000 - true_positives_2: 37.0000 - false_negatives_2: 23.0000 - false_positives_2: 27.0000 - val_loss: 2.9406 - val_accuracy: 0.6500 - val_true_negatives_2: 21.0000 - val_true_positives_2: 31.0000 - val_false_negatives_2: 9.0000 - val_false_positives_2: 19.0000\n",
            "Epoch 60/100\n",
            "12/12 [==============================] - 10s 859ms/step - loss: 2.9384 - accuracy: 0.4750 - true_negatives_2: 19.0000 - true_positives_2: 38.0000 - false_negatives_2: 22.0000 - false_positives_2: 41.0000 - val_loss: 2.9300 - val_accuracy: 0.6625 - val_true_negatives_2: 23.0000 - val_true_positives_2: 30.0000 - val_false_negatives_2: 10.0000 - val_false_positives_2: 17.0000\n",
            "Epoch 61/100\n",
            "12/12 [==============================] - 11s 908ms/step - loss: 2.9249 - accuracy: 0.5667 - true_negatives_2: 37.0000 - true_positives_2: 31.0000 - false_negatives_2: 29.0000 - false_positives_2: 23.0000 - val_loss: 2.9191 - val_accuracy: 0.6500 - val_true_negatives_2: 25.0000 - val_true_positives_2: 27.0000 - val_false_negatives_2: 13.0000 - val_false_positives_2: 15.0000\n",
            "Epoch 62/100\n",
            "12/12 [==============================] - 10s 861ms/step - loss: 2.9130 - accuracy: 0.5667 - true_negatives_2: 40.0000 - true_positives_2: 28.0000 - false_negatives_2: 32.0000 - false_positives_2: 20.0000 - val_loss: 2.9082 - val_accuracy: 0.6875 - val_true_negatives_2: 29.0000 - val_true_positives_2: 26.0000 - val_false_negatives_2: 14.0000 - val_false_positives_2: 11.0000\n",
            "Epoch 63/100\n",
            "12/12 [==============================] - 10s 860ms/step - loss: 2.9016 - accuracy: 0.6000 - true_negatives_2: 24.0000 - true_positives_2: 48.0000 - false_negatives_2: 12.0000 - false_positives_2: 36.0000 - val_loss: 2.8971 - val_accuracy: 0.7125 - val_true_negatives_2: 39.0000 - val_true_positives_2: 18.0000 - val_false_negatives_2: 22.0000 - val_false_positives_2: 1.0000\n",
            "Epoch 64/100\n",
            "12/12 [==============================] - 10s 857ms/step - loss: 2.8943 - accuracy: 0.4917 - true_negatives_2: 35.0000 - true_positives_2: 24.0000 - false_negatives_2: 36.0000 - false_positives_2: 25.0000 - val_loss: 2.8866 - val_accuracy: 0.7000 - val_true_negatives_2: 36.0000 - val_true_positives_2: 20.0000 - val_false_negatives_2: 20.0000 - val_false_positives_2: 4.0000\n",
            "Epoch 65/100\n",
            "12/12 [==============================] - 10s 860ms/step - loss: 2.8851 - accuracy: 0.5000 - true_negatives_2: 18.0000 - true_positives_2: 42.0000 - false_negatives_2: 18.0000 - false_positives_2: 42.0000 - val_loss: 2.8758 - val_accuracy: 0.7250 - val_true_negatives_2: 38.0000 - val_true_positives_2: 20.0000 - val_false_negatives_2: 20.0000 - val_false_positives_2: 2.0000\n",
            "Epoch 66/100\n",
            "12/12 [==============================] - 10s 856ms/step - loss: 2.8736 - accuracy: 0.5000 - true_negatives_2: 16.0000 - true_positives_2: 44.0000 - false_negatives_2: 16.0000 - false_positives_2: 44.0000 - val_loss: 2.8656 - val_accuracy: 0.7000 - val_true_negatives_2: 33.0000 - val_true_positives_2: 23.0000 - val_false_negatives_2: 17.0000 - val_false_positives_2: 7.0000\n",
            "Epoch 67/100\n",
            "12/12 [==============================] - 10s 858ms/step - loss: 2.8614 - accuracy: 0.5667 - true_negatives_2: 33.0000 - true_positives_2: 35.0000 - false_negatives_2: 25.0000 - false_positives_2: 27.0000 - val_loss: 2.8563 - val_accuracy: 0.6625 - val_true_negatives_2: 27.0000 - val_true_positives_2: 26.0000 - val_false_negatives_2: 14.0000 - val_false_positives_2: 13.0000\n",
            "Epoch 68/100\n",
            "12/12 [==============================] - 10s 849ms/step - loss: 2.8521 - accuracy: 0.5833 - true_negatives_2: 32.0000 - true_positives_2: 38.0000 - false_negatives_2: 22.0000 - false_positives_2: 28.0000 - val_loss: 2.8445 - val_accuracy: 0.7000 - val_true_negatives_2: 32.0000 - val_true_positives_2: 24.0000 - val_false_negatives_2: 16.0000 - val_false_positives_2: 8.0000\n",
            "Epoch 69/100\n",
            "12/12 [==============================] - 10s 877ms/step - loss: 2.8410 - accuracy: 0.5250 - true_negatives_2: 38.0000 - true_positives_2: 25.0000 - false_negatives_2: 35.0000 - false_positives_2: 22.0000 - val_loss: 2.8337 - val_accuracy: 0.7000 - val_true_negatives_2: 32.0000 - val_true_positives_2: 24.0000 - val_false_negatives_2: 16.0000 - val_false_positives_2: 8.0000\n",
            "Epoch 70/100\n",
            "12/12 [==============================] - 10s 869ms/step - loss: 2.8310 - accuracy: 0.5667 - true_negatives_2: 37.0000 - true_positives_2: 31.0000 - false_negatives_2: 29.0000 - false_positives_2: 23.0000 - val_loss: 2.8235 - val_accuracy: 0.6875 - val_true_negatives_2: 33.0000 - val_true_positives_2: 22.0000 - val_false_negatives_2: 18.0000 - val_false_positives_2: 7.0000\n",
            "Epoch 71/100\n",
            "12/12 [==============================] - 10s 856ms/step - loss: 2.8201 - accuracy: 0.4917 - true_negatives_2: 27.0000 - true_positives_2: 32.0000 - false_negatives_2: 28.0000 - false_positives_2: 33.0000 - val_loss: 2.8133 - val_accuracy: 0.6875 - val_true_negatives_2: 35.0000 - val_true_positives_2: 20.0000 - val_false_negatives_2: 20.0000 - val_false_positives_2: 5.0000\n",
            "Epoch 72/100\n",
            "12/12 [==============================] - 10s 860ms/step - loss: 2.8089 - accuracy: 0.4917 - true_negatives_2: 30.0000 - true_positives_2: 29.0000 - false_negatives_2: 31.0000 - false_positives_2: 30.0000 - val_loss: 2.8025 - val_accuracy: 0.7125 - val_true_negatives_2: 33.0000 - val_true_positives_2: 24.0000 - val_false_negatives_2: 16.0000 - val_false_positives_2: 7.0000\n",
            "Epoch 73/100\n",
            "12/12 [==============================] - 10s 864ms/step - loss: 2.8027 - accuracy: 0.4500 - true_negatives_2: 27.0000 - true_positives_2: 27.0000 - false_negatives_2: 33.0000 - false_positives_2: 33.0000 - val_loss: 2.7922 - val_accuracy: 0.6625 - val_true_negatives_2: 25.0000 - val_true_positives_2: 28.0000 - val_false_negatives_2: 12.0000 - val_false_positives_2: 15.0000\n",
            "Epoch 74/100\n",
            "12/12 [==============================] - 10s 848ms/step - loss: 2.7945 - accuracy: 0.4833 - true_negatives_2: 18.0000 - true_positives_2: 40.0000 - false_negatives_2: 20.0000 - false_positives_2: 42.0000 - val_loss: 2.7821 - val_accuracy: 0.7000 - val_true_negatives_2: 33.0000 - val_true_positives_2: 23.0000 - val_false_negatives_2: 17.0000 - val_false_positives_2: 7.0000\n",
            "Epoch 75/100\n",
            "12/12 [==============================] - 10s 856ms/step - loss: 2.7842 - accuracy: 0.4250 - true_negatives_2: 40.0000 - true_positives_2: 11.0000 - false_negatives_2: 49.0000 - false_positives_2: 20.0000 - val_loss: 2.7723 - val_accuracy: 0.7125 - val_true_negatives_2: 33.0000 - val_true_positives_2: 24.0000 - val_false_negatives_2: 16.0000 - val_false_positives_2: 7.0000\n",
            "Epoch 76/100\n",
            "12/12 [==============================] - 10s 830ms/step - loss: 2.7707 - accuracy: 0.5667 - true_negatives_2: 37.0000 - true_positives_2: 31.0000 - false_negatives_2: 29.0000 - false_positives_2: 23.0000 - val_loss: 2.7622 - val_accuracy: 0.6750 - val_true_negatives_2: 30.0000 - val_true_positives_2: 24.0000 - val_false_negatives_2: 16.0000 - val_false_positives_2: 10.0000\n",
            "Epoch 77/100\n",
            "12/12 [==============================] - 10s 821ms/step - loss: 2.7600 - accuracy: 0.5750 - true_negatives_2: 34.0000 - true_positives_2: 35.0000 - false_negatives_2: 25.0000 - false_positives_2: 26.0000 - val_loss: 2.7522 - val_accuracy: 0.6875 - val_true_negatives_2: 33.0000 - val_true_positives_2: 22.0000 - val_false_negatives_2: 18.0000 - val_false_positives_2: 7.0000\n",
            "Epoch 78/100\n",
            "12/12 [==============================] - 10s 845ms/step - loss: 2.7505 - accuracy: 0.5667 - true_negatives_2: 43.0000 - true_positives_2: 25.0000 - false_negatives_2: 35.0000 - false_positives_2: 17.0000 - val_loss: 2.7425 - val_accuracy: 0.6500 - val_true_negatives_2: 24.0000 - val_true_positives_2: 28.0000 - val_false_negatives_2: 12.0000 - val_false_positives_2: 16.0000\n",
            "Epoch 79/100\n",
            "12/12 [==============================] - 10s 878ms/step - loss: 2.7401 - accuracy: 0.5667 - true_negatives_2: 36.0000 - true_positives_2: 32.0000 - false_negatives_2: 28.0000 - false_positives_2: 24.0000 - val_loss: 2.7318 - val_accuracy: 0.6500 - val_true_negatives_2: 25.0000 - val_true_positives_2: 27.0000 - val_false_negatives_2: 13.0000 - val_false_positives_2: 15.0000\n",
            "Epoch 80/100\n",
            "12/12 [==============================] - 10s 874ms/step - loss: 2.7309 - accuracy: 0.5917 - true_negatives_2: 30.0000 - true_positives_2: 41.0000 - false_negatives_2: 19.0000 - false_positives_2: 30.0000 - val_loss: 2.7215 - val_accuracy: 0.6500 - val_true_negatives_2: 26.0000 - val_true_positives_2: 26.0000 - val_false_negatives_2: 14.0000 - val_false_positives_2: 14.0000\n",
            "Epoch 81/100\n",
            "12/12 [==============================] - 10s 871ms/step - loss: 2.7194 - accuracy: 0.5833 - true_negatives_2: 31.0000 - true_positives_2: 39.0000 - false_negatives_2: 21.0000 - false_positives_2: 29.0000 - val_loss: 2.7111 - val_accuracy: 0.6500 - val_true_negatives_2: 27.0000 - val_true_positives_2: 25.0000 - val_false_negatives_2: 15.0000 - val_false_positives_2: 13.0000\n",
            "Epoch 82/100\n",
            "12/12 [==============================] - 11s 882ms/step - loss: 2.7111 - accuracy: 0.5333 - true_negatives_2: 37.0000 - true_positives_2: 27.0000 - false_negatives_2: 33.0000 - false_positives_2: 23.0000 - val_loss: 2.7011 - val_accuracy: 0.6500 - val_true_negatives_2: 25.0000 - val_true_positives_2: 27.0000 - val_false_negatives_2: 13.0000 - val_false_positives_2: 15.0000\n",
            "Epoch 83/100\n",
            "12/12 [==============================] - 10s 878ms/step - loss: 2.7055 - accuracy: 0.4583 - true_negatives_2: 15.0000 - true_positives_2: 40.0000 - false_negatives_2: 20.0000 - false_positives_2: 45.0000 - val_loss: 2.6916 - val_accuracy: 0.6375 - val_true_negatives_2: 26.0000 - val_true_positives_2: 25.0000 - val_false_negatives_2: 15.0000 - val_false_positives_2: 14.0000\n",
            "Epoch 84/100\n",
            "12/12 [==============================] - 11s 887ms/step - loss: 2.6916 - accuracy: 0.5083 - true_negatives_2: 21.0000 - true_positives_2: 40.0000 - false_negatives_2: 20.0000 - false_positives_2: 39.0000 - val_loss: 2.6815 - val_accuracy: 0.6750 - val_true_negatives_2: 30.0000 - val_true_positives_2: 24.0000 - val_false_negatives_2: 16.0000 - val_false_positives_2: 10.0000\n",
            "Epoch 85/100\n",
            "12/12 [==============================] - 10s 868ms/step - loss: 2.6782 - accuracy: 0.6167 - true_negatives_2: 40.0000 - true_positives_2: 34.0000 - false_negatives_2: 26.0000 - false_positives_2: 20.0000 - val_loss: 2.6713 - val_accuracy: 0.6500 - val_true_negatives_2: 28.0000 - val_true_positives_2: 24.0000 - val_false_negatives_2: 16.0000 - val_false_positives_2: 12.0000\n",
            "Epoch 86/100\n",
            "12/12 [==============================] - 11s 882ms/step - loss: 2.6695 - accuracy: 0.6000 - true_negatives_2: 48.0000 - true_positives_2: 24.0000 - false_negatives_2: 36.0000 - false_positives_2: 12.0000 - val_loss: 2.6618 - val_accuracy: 0.6750 - val_true_negatives_2: 24.0000 - val_true_positives_2: 30.0000 - val_false_negatives_2: 10.0000 - val_false_positives_2: 16.0000\n",
            "Epoch 87/100\n",
            "12/12 [==============================] - 10s 877ms/step - loss: 2.6624 - accuracy: 0.5833 - true_negatives_2: 39.0000 - true_positives_2: 31.0000 - false_negatives_2: 29.0000 - false_positives_2: 21.0000 - val_loss: 2.6506 - val_accuracy: 0.6500 - val_true_negatives_2: 26.0000 - val_true_positives_2: 26.0000 - val_false_negatives_2: 14.0000 - val_false_positives_2: 14.0000\n",
            "Epoch 88/100\n",
            "12/12 [==============================] - 11s 888ms/step - loss: 2.6574 - accuracy: 0.5750 - true_negatives_2: 40.0000 - true_positives_2: 29.0000 - false_negatives_2: 31.0000 - false_positives_2: 20.0000 - val_loss: 2.6437 - val_accuracy: 0.6500 - val_true_negatives_2: 19.0000 - val_true_positives_2: 33.0000 - val_false_negatives_2: 7.0000 - val_false_positives_2: 21.0000\n",
            "Epoch 89/100\n",
            "12/12 [==============================] - 10s 869ms/step - loss: 2.6449 - accuracy: 0.5333 - true_negatives_2: 31.0000 - true_positives_2: 33.0000 - false_negatives_2: 27.0000 - false_positives_2: 29.0000 - val_loss: 2.6313 - val_accuracy: 0.6375 - val_true_negatives_2: 25.0000 - val_true_positives_2: 26.0000 - val_false_negatives_2: 14.0000 - val_false_positives_2: 15.0000\n",
            "Epoch 90/100\n",
            "12/12 [==============================] - 10s 867ms/step - loss: 2.6353 - accuracy: 0.5250 - true_negatives_2: 24.0000 - true_positives_2: 39.0000 - false_negatives_2: 21.0000 - false_positives_2: 36.0000 - val_loss: 2.6216 - val_accuracy: 0.6375 - val_true_negatives_2: 27.0000 - val_true_positives_2: 24.0000 - val_false_negatives_2: 16.0000 - val_false_positives_2: 13.0000\n",
            "Epoch 91/100\n",
            "12/12 [==============================] - 11s 887ms/step - loss: 2.6218 - accuracy: 0.5750 - true_negatives_2: 40.0000 - true_positives_2: 29.0000 - false_negatives_2: 31.0000 - false_positives_2: 20.0000 - val_loss: 2.6118 - val_accuracy: 0.6625 - val_true_negatives_2: 27.0000 - val_true_positives_2: 26.0000 - val_false_negatives_2: 14.0000 - val_false_positives_2: 13.0000\n",
            "Epoch 92/100\n",
            "12/12 [==============================] - 10s 806ms/step - loss: 2.6144 - accuracy: 0.5667 - true_negatives_2: 35.0000 - true_positives_2: 33.0000 - false_negatives_2: 27.0000 - false_positives_2: 25.0000 - val_loss: 2.6015 - val_accuracy: 0.6500 - val_true_negatives_2: 26.0000 - val_true_positives_2: 26.0000 - val_false_negatives_2: 14.0000 - val_false_positives_2: 14.0000\n",
            "Epoch 93/100\n",
            "12/12 [==============================] - 10s 834ms/step - loss: 2.6011 - accuracy: 0.5917 - true_negatives_2: 38.0000 - true_positives_2: 33.0000 - false_negatives_2: 27.0000 - false_positives_2: 22.0000 - val_loss: 2.5951 - val_accuracy: 0.6625 - val_true_negatives_2: 19.0000 - val_true_positives_2: 34.0000 - val_false_negatives_2: 6.0000 - val_false_positives_2: 21.0000\n",
            "Epoch 94/100\n",
            "12/12 [==============================] - 10s 825ms/step - loss: 2.5985 - accuracy: 0.5583 - true_negatives_2: 41.0000 - true_positives_2: 26.0000 - false_negatives_2: 34.0000 - false_positives_2: 19.0000 - val_loss: 2.5833 - val_accuracy: 0.7250 - val_true_negatives_2: 19.0000 - val_true_positives_2: 39.0000 - val_false_negatives_2: 1.0000 - val_false_positives_2: 21.0000\n",
            "Epoch 95/100\n",
            "12/12 [==============================] - 10s 804ms/step - loss: 2.5924 - accuracy: 0.5500 - true_negatives_2: 29.0000 - true_positives_2: 37.0000 - false_negatives_2: 23.0000 - false_positives_2: 31.0000 - val_loss: 2.5693 - val_accuracy: 0.7875 - val_true_negatives_2: 26.0000 - val_true_positives_2: 37.0000 - val_false_negatives_2: 3.0000 - val_false_positives_2: 14.0000\n",
            "Epoch 96/100\n",
            "12/12 [==============================] - 10s 839ms/step - loss: 2.5818 - accuracy: 0.5500 - true_negatives_2: 33.0000 - true_positives_2: 33.0000 - false_negatives_2: 27.0000 - false_positives_2: 27.0000 - val_loss: 2.5594 - val_accuracy: 0.7250 - val_true_negatives_2: 32.0000 - val_true_positives_2: 26.0000 - val_false_negatives_2: 14.0000 - val_false_positives_2: 8.0000\n",
            "Epoch 97/100\n",
            "12/12 [==============================] - 10s 848ms/step - loss: 2.5675 - accuracy: 0.5583 - true_negatives_2: 36.0000 - true_positives_2: 31.0000 - false_negatives_2: 29.0000 - false_positives_2: 24.0000 - val_loss: 2.5473 - val_accuracy: 0.7875 - val_true_negatives_2: 25.0000 - val_true_positives_2: 38.0000 - val_false_negatives_2: 2.0000 - val_false_positives_2: 15.0000\n",
            "Epoch 98/100\n",
            "12/12 [==============================] - 10s 862ms/step - loss: 2.5623 - accuracy: 0.5250 - true_negatives_2: 40.0000 - true_positives_2: 23.0000 - false_negatives_2: 37.0000 - false_positives_2: 20.0000 - val_loss: 2.5379 - val_accuracy: 0.7250 - val_true_negatives_2: 26.0000 - val_true_positives_2: 32.0000 - val_false_negatives_2: 8.0000 - val_false_positives_2: 14.0000\n",
            "Epoch 99/100\n",
            "12/12 [==============================] - 10s 833ms/step - loss: 2.5466 - accuracy: 0.5750 - true_negatives_2: 43.0000 - true_positives_2: 26.0000 - false_negatives_2: 34.0000 - false_positives_2: 17.0000 - val_loss: 2.5267 - val_accuracy: 0.8125 - val_true_negatives_2: 25.0000 - val_true_positives_2: 40.0000 - val_false_negatives_2: 0.0000e+00 - val_false_positives_2: 15.0000\n",
            "Epoch 100/100\n",
            "12/12 [==============================] - 10s 836ms/step - loss: 2.5362 - accuracy: 0.6333 - true_negatives_2: 36.0000 - true_positives_2: 40.0000 - false_negatives_2: 20.0000 - false_positives_2: 24.0000 - val_loss: 2.5156 - val_accuracy: 0.7750 - val_true_negatives_2: 25.0000 - val_true_positives_2: 37.0000 - val_false_negatives_2: 3.0000 - val_false_positives_2: 15.0000\n"
          ]
        },
        {
          "data": {
            "image/png": "[encoded data removed]",
            "text/plain": [
              "<Figure size 432x288 with 1 Axes>"
            ]
          },
          "metadata": {
            "needs_background": "light"
          },
          "output_type": "display_data"
        },
        {
          "data": {
            "image/png": "[encoded data removed]",
            "text/plain": [
              "<Figure size 432x288 with 1 Axes>"
            ]
          },
          "metadata": {
            "needs_background": "light"
          },
          "output_type": "display_data"
        }
      ],
      "source": [
        "# fitiing\n",
        "history=model.fit(train_generator,epochs=100,validation_data=val_generator,shuffle=True,\n",
        "                            callbacks=[callbacks.EarlyStopping(monitor='val_loss', patience=5,restore_best_weights=True)])\n",
        "# using early stopping method to train the model to achieve maximum accuracy\n",
        "plt.plot(history.history['loss'])\n",
        "plt.plot(history.history['val_loss'])\n",
        "plt.title('loss')\n",
        "plt.ylabel('loss')\n",
        "plt.xlabel('epoch')\n",
        "plt.legend(['train', 'val'], loc='upper left')\n",
        "plt.show()\n",
        "plt.plot(history.history['loss'])\n",
        "plt.plot(history.history['val_loss'])\n",
        "plt.title('loss')\n",
        "plt.ylabel('loss')\n",
        "plt.xlabel('epoch')\n",
        "plt.legend(['train', 'val'], loc='upper left')\n",
        "plt.show()"
      ]
    },
    {
      "cell_type": "code",
      "execution_count": 22,
      "metadata": {
        "colab": {},
        "colab_type": "code",
        "id": "lTU-qpGgLUqf"
      },
      "outputs": [
        {
          "name": "stdout",
          "output_type": "stream",
          "text": [
            "3/3 [==============================] - 1s 321ms/step - loss: 2.5156 - accuracy: 0.7750 - true_negatives_2: 25.0000 - true_positives_2: 37.0000 - false_negatives_2: 3.0000 - false_positives_2: 15.0000\n",
            "0.7749999761581421\n",
            "37.0 15.0\n",
            "3.0 37.0\n"
          ]
        }
      ],
      "source": [
        "#testing \n",
        "loss,accuracy,tn,tp,fn,fp=model.evaluate(val_generator)\n",
        "print(accuracy)\n",
        "print(tp,fp,)\n",
        "print(fn,tp)"
      ]
    },
    {
      "cell_type": "code",
      "execution_count": 23,
      "metadata": {},
      "outputs": [
        {
          "name": "stdout",
          "output_type": "stream",
          "text": [
            "12/12 [==============================] - 2s 160ms/step - loss: 2.5286 - accuracy: 0.6667 - true_negatives_2: 52.0000 - true_positives_2: 28.0000 - false_negatives_2: 32.0000 - false_positives_2: 8.0000\n",
            "0.6666666865348816\n",
            "28.0 8.0\n",
            "32.0 28.0\n"
          ]
        }
      ],
      "source": [
        "loss,accuracy,tn,tp,fn,fp = model.evaluate(train_generator)\n",
        "print(accuracy)\n",
        "print(tp,fp,)\n",
        "print(fn,tp)"
      ]
    },
    {
      "cell_type": "code",
      "execution_count": 25,
      "metadata": {},
      "outputs": [],
      "source": [
        "tf.keras.models.save_model(model,'../models/cnn_svm.h5')"
      ]
    },
    {
      "cell_type": "code",
      "execution_count": 26,
      "metadata": {},
      "outputs": [],
      "source": [
        "# save weights\n",
        "model.save_weights('../models/cnn_svm_weights.h5')"
      ]
    },
    {
      "cell_type": "code",
      "execution_count": 28,
      "metadata": {},
      "outputs": [],
      "source": [
        "# load mode\n",
        "model.load_weights('../models/cnn_svm_weights.h5')"
      ]
    },
    {
      "cell_type": "code",
      "execution_count": null,
      "metadata": {},
      "outputs": [],
      "source": []
    }
  ],
  "metadata": {
    "colab": {
      "name": "Untitled15.ipynb",
      "provenance": []
    },
    "interpreter": {
      "hash": "4155c6aabd79feaddd2a107c3328b8e7f59a22d3e4f07c5dafc6e15105329367"
    },
    "kernelspec": {
      "display_name": "Python 3.8.13 ('tf')",
      "language": "python",
      "name": "python3"
    },
    "language_info": {
      "codemirror_mode": {
        "name": "ipython",
        "version": 3
      },
      "file_extension": ".py",
      "mimetype": "text/x-python",
      "name": "python",
      "nbconvert_exporter": "python",
      "pygments_lexer": "ipython3",
      "version": "3.8.13"
    }
  },
  "nbformat": 4,
  "nbformat_minor": 0
}
